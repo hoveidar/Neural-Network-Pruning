{
  "nbformat": 4,
  "nbformat_minor": 0,
  "metadata": {
    "colab": {
      "name": "for_ai_2.ipynb",
      "version": "0.3.2",
      "provenance": [],
      "collapsed_sections": [],
      "include_colab_link": true
    },
    "kernelspec": {
      "name": "python3",
      "display_name": "Python 3"
    }
  },
  "cells": [
    {
      "cell_type": "markdown",
      "metadata": {
        "id": "view-in-github",
        "colab_type": "text"
      },
      "source": [
        "<a href=\"https://colab.research.google.com/github/hoveidar/Neural-Network-Pruning/blob/master/for_ai_2.ipynb\" target=\"_parent\"><img src=\"https://colab.research.google.com/assets/colab-badge.svg\" alt=\"Open In Colab\"/></a>"
      ]
    },
    {
      "cell_type": "code",
      "metadata": {
        "id": "cnPaSpfxmYbc",
        "colab_type": "code",
        "outputId": "36335ae1-5be7-49a1-b052-db90564c7882",
        "colab": {
          "base_uri": "https://localhost:8080/",
          "height": 34
        }
      },
      "source": [
        "from __future__ import absolute_import, division, print_function, unicode_literals\n",
        "\n",
        "# TensorFlow and tf.keras\n",
        "import tensorflow as tf\n",
        "from tensorflow import keras\n",
        "\n",
        "# Helper libraries\n",
        "import numpy as np\n",
        "import matplotlib.pyplot as plt\n",
        "\n",
        "from sklearn import preprocessing\n",
        "import pandas as pd\n",
        "\n",
        "\n",
        "print(tf.__version__)"
      ],
      "execution_count": 2,
      "outputs": [
        {
          "output_type": "stream",
          "text": [
            "1.14.0-rc1\n"
          ],
          "name": "stdout"
        }
      ]
    },
    {
      "cell_type": "code",
      "metadata": {
        "id": "xaeRSZ5ZmeWj",
        "colab_type": "code",
        "colab": {}
      },
      "source": [
        "fashion_mnist = keras.datasets.fashion_mnist\n",
        "\n",
        "(train_images, train_labels), (test_images, test_labels) = fashion_mnist.load_data()"
      ],
      "execution_count": 0,
      "outputs": []
    },
    {
      "cell_type": "code",
      "metadata": {
        "id": "SqFiC0ulxXka",
        "colab_type": "code",
        "colab": {}
      },
      "source": [
        "class_names = ['T-shirt/top', 'Trouser', 'Pullover', 'Dress', 'Coat',\n",
        "               'Sandal', 'Shirt', 'Sneaker', 'Bag', 'Ankle boot']"
      ],
      "execution_count": 0,
      "outputs": []
    },
    {
      "cell_type": "code",
      "metadata": {
        "id": "oe77LRZCyKvH",
        "colab_type": "code",
        "outputId": "d94d4b67-4f4c-42da-ca3c-987bba1e8ca5",
        "colab": {
          "base_uri": "https://localhost:8080/",
          "height": 269
        }
      },
      "source": [
        "plt.figure()\n",
        "plt.imshow(train_images[3])\n",
        "plt.colorbar()\n",
        "plt.grid(False)\n",
        "plt.show()"
      ],
      "execution_count": 5,
      "outputs": [
        {
          "output_type": "display_data",
          "data": {
            "image/png": "[encoded data removed]",
            "text/plain": [
              "<Figure size 432x288 with 2 Axes>"
            ]
          },
          "metadata": {
            "tags": []
          }
        }
      ]
    },
    {
      "cell_type": "code",
      "metadata": {
        "id": "w41UqaIGQDGA",
        "colab_type": "code",
        "colab": {
          "base_uri": "https://localhost:8080/",
          "height": 269
        },
        "outputId": "ae904480-1efb-4d72-c754-09d5a957284b"
      },
      "source": [
        "train_images = train_images.reshape((-1,28*28))\n",
        "test_images = test_images.reshape((-1,28*28))\n",
        "\n",
        "scaler = preprocessing.StandardScaler().fit(train_images)\n",
        "\n",
        "\n",
        "\n",
        "train_images = scaler.transform(train_images)\n",
        "test_images = scaler.transform(test_images)\n",
        "\n",
        "train_images = train_images.reshape((-1,28,28))\n",
        "test_images = test_images.reshape((-1,28,28))\n",
        "\n",
        "plt.figure()\n",
        "plt.imshow(train_images[3])\n",
        "plt.colorbar()\n",
        "plt.grid(False)\n",
        "plt.show()\n",
        "\n",
        "\n",
        "# train_images = train_images / 255.0\n",
        "\n",
        "# test_images = test_images / 255.0"
      ],
      "execution_count": 6,
      "outputs": [
        {
          "output_type": "display_data",
          "data": {
            "image/png": "[encoded data removed]",
            "text/plain": [
              "<Figure size 432x288 with 2 Axes>"
            ]
          },
          "metadata": {
            "tags": []
          }
        }
      ]
    },
    {
      "cell_type": "code",
      "metadata": {
        "id": "dHinSHBsQD5F",
        "colab_type": "code",
        "colab": {
          "base_uri": "https://localhost:8080/",
          "height": 592
        },
        "outputId": "71deeeac-af9a-4062-a265-8063c1f558f5"
      },
      "source": [
        "plt.figure(figsize=(10,10))\n",
        "for i in range(25):\n",
        "    plt.subplot(5,5,i+1)\n",
        "    plt.xticks([])\n",
        "    plt.yticks([])\n",
        "    plt.grid(False)\n",
        "    plt.imshow(train_images[i], cmap=plt.cm.binary)\n",
        "    plt.xlabel(class_names[train_labels[i]])\n",
        "plt.show()"
      ],
      "execution_count": 7,
      "outputs": [
        {
          "output_type": "display_data",
          "data": {
            "image/png": "[encoded data removed]",
            "text/plain": [
              "<Figure size 720x720 with 25 Axes>"
            ]
          },
          "metadata": {
            "tags": []
          }
        }
      ]
    },
    {
      "cell_type": "code",
      "metadata": {
        "id": "QktWeVUSQSLA",
        "colab_type": "code",
        "colab": {
          "base_uri": "https://localhost:8080/",
          "height": 105
        },
        "outputId": "4977bcb4-bf46-43d0-c89b-11e98c4dff9b"
      },
      "source": [
        "model = keras.Sequential([\n",
        "    keras.layers.Flatten(input_shape=(28, 28)),\n",
        "    keras.layers.Dense(1000, activation=tf.nn.relu,use_bias=False),\n",
        "    keras.layers.Dense(1000, activation=tf.nn.relu,use_bias=False),\n",
        "    keras.layers.Dense(500, activation=tf.nn.relu,use_bias=False),\n",
        "    keras.layers.Dense(200, activation=tf.nn.relu,use_bias=False),\n",
        "    keras.layers.Dense(10, activation=tf.nn.softmax,use_bias=False)\n",
        "])"
      ],
      "execution_count": 8,
      "outputs": [
        {
          "output_type": "stream",
          "text": [
            "WARNING: Logging before flag parsing goes to stderr.\n",
            "W0621 21:25:25.358000 140675338958720 deprecation.py:506] From /usr/local/lib/python3.6/dist-packages/tensorflow/python/ops/init_ops.py:1251: calling VarianceScaling.__init__ (from tensorflow.python.ops.init_ops) with dtype is deprecated and will be removed in a future version.\n",
            "Instructions for updating:\n",
            "Call initializer instance with the dtype argument instead of passing it to the constructor\n"
          ],
          "name": "stderr"
        }
      ]
    },
    {
      "cell_type": "code",
      "metadata": {
        "id": "jIfw1IT8Ro5r",
        "colab_type": "code",
        "colab": {}
      },
      "source": [
        "model.compile(optimizer='adam',\n",
        "              loss='sparse_categorical_crossentropy',\n",
        "              metrics=['accuracy'])"
      ],
      "execution_count": 0,
      "outputs": []
    },
    {
      "cell_type": "code",
      "metadata": {
        "id": "xjWNJCzUSUpJ",
        "colab_type": "code",
        "outputId": "2a8dee42-1681-4238-a243-b9372b2cc009",
        "colab": {
          "base_uri": "https://localhost:8080/",
          "height": 51
        }
      },
      "source": [
        "model.fit(train_images, train_labels, epochs=1)"
      ],
      "execution_count": 10,
      "outputs": [
        {
          "output_type": "stream",
          "text": [
            "60000/60000 [==============================] - 52s 862us/sample - loss: 0.4759 - acc: 0.8328\n"
          ],
          "name": "stdout"
        },
        {
          "output_type": "execute_result",
          "data": {
            "text/plain": [
              "<tensorflow.python.keras.callbacks.History at 0x7ff1431b8c88>"
            ]
          },
          "metadata": {
            "tags": []
          },
          "execution_count": 10
        }
      ]
    },
    {
      "cell_type": "code",
      "metadata": {
        "id": "otjAPcz2umvT",
        "colab_type": "code",
        "colab": {}
      },
      "source": [
        "keras.models.save_model(\n",
        "    model,\n",
        "    './model',\n",
        "    overwrite=True,\n",
        "    include_optimizer=True,\n",
        "    save_format=None\n",
        ")"
      ],
      "execution_count": 0,
      "outputs": []
    },
    {
      "cell_type": "code",
      "metadata": {
        "id": "wrBHgOZPTK1c",
        "colab_type": "code",
        "colab": {}
      },
      "source": [
        "# test_loss, test_acc = model.evaluate(test_images, test_labels)\n",
        "\n",
        "# print('Test accuracy:', test_acc)"
      ],
      "execution_count": 0,
      "outputs": []
    },
    {
      "cell_type": "code",
      "metadata": {
        "id": "EHfupdOfV7Gu",
        "colab_type": "code",
        "outputId": "0f229381-b044-4556-a994-26f4729ac4a0",
        "colab": {
          "base_uri": "https://localhost:8080/",
          "height": 513
        }
      },
      "source": [
        "test_loss, test_acc = model.evaluate(test_images, test_labels)\n",
        "\n",
        "print('Test accuracy after first training:', test_acc)\n",
        "\n",
        "\n",
        "####################################################################\n",
        "#defining a function for pruning\n",
        "\n",
        "\n",
        "def weight_pruning(W,k):\n",
        "  \n",
        "  # number of Weight matrices\n",
        "  W_count = np.shape(W)[0]\n",
        "\n",
        "  for layer in range(W_count-1): # (W_count-1) is used to prevent pruning of output layer\n",
        "    temp = W[layer]\n",
        "    temp_shape = temp.shape\n",
        "    temp_flatten = temp.reshape(temp_shape[0]*temp_shape[1],)\n",
        "\n",
        "    temp_abs = np.abs(temp_flatten)\n",
        "\n",
        "    ind = np.argsort(temp_abs)\n",
        "    prune_ind = ind[0:int(k*len(ind))]\n",
        "    for i in prune_ind:\n",
        "      temp_flatten[i] = 0\n",
        "    W[layer] = temp_flatten.reshape(temp_shape)\n",
        "  return W\n",
        "####################################################################\n",
        "\n",
        "weight_based_results = pd.DataFrame()\n",
        "\n",
        "for k in [.0, .25, .50, .60, .70, .80, .90, .95, .97, .99]:\n",
        "\n",
        "  new_model = keras.models.load_model(\n",
        "      './model',\n",
        "      custom_objects=None,\n",
        "      compile=True\n",
        "  )\n",
        "  \n",
        "  # getting weights of the model\n",
        "  main_weights = new_model.get_weights()\n",
        "\n",
        "  new_weights = weight_pruning(main_weights,k)\n",
        "  new_model.set_weights(new_weights)\n",
        "\n",
        "#   new_model.fit(train_images, train_labels, epochs=3)\n",
        "  \n",
        "#   new_weights = weight_pruning(W,k)\n",
        "#   new_model.set_weights(W)\n",
        "\n",
        "\n",
        "  new_test_loss, new_test_acc = new_model.evaluate(test_images, test_labels)\n",
        "\n",
        "  print('Test accuracy after weight pruning of %.2f:'%k, new_test_acc)\n",
        "  k_step_result = pd.DataFrame({\n",
        "      'k': [k],\n",
        "      'Accuracy': [new_test_acc]\n",
        "  })\n",
        "  weight_based_results = pd.concat([weight_based_results,k_step_result],axis=0)\n",
        "  \n"
      ],
      "execution_count": 13,
      "outputs": [
        {
          "output_type": "stream",
          "text": [
            "10000/10000 [==============================] - 2s 239us/sample - loss: 0.4394 - acc: 0.8393\n",
            "Test accuracy after first training:"
          ],
          "name": "stdout"
        },
        {
          "output_type": "stream",
          "text": [
            "W0621 21:26:33.011288 140675338958720 deprecation.py:506] From /usr/local/lib/python3.6/dist-packages/tensorflow/python/ops/init_ops.py:97: calling GlorotUniform.__init__ (from tensorflow.python.ops.init_ops) with dtype is deprecated and will be removed in a future version.\n",
            "Instructions for updating:\n",
            "Call initializer instance with the dtype argument instead of passing it to the constructor\n",
            "W0621 21:26:33.012882 140675338958720 deprecation.py:506] From /usr/local/lib/python3.6/dist-packages/tensorflow/python/ops/init_ops.py:97: calling Zeros.__init__ (from tensorflow.python.ops.init_ops) with dtype is deprecated and will be removed in a future version.\n",
            "Instructions for updating:\n",
            "Call initializer instance with the dtype argument instead of passing it to the constructor\n"
          ],
          "name": "stderr"
        },
        {
          "output_type": "stream",
          "text": [
            " 0.8393\n",
            "10000/10000 [==============================] - 2s 238us/sample - loss: 0.4394 - acc: 0.8393\n",
            "Test accuracy after weight pruning of 0.00: 0.8393\n",
            "10000/10000 [==============================] - 2s 235us/sample - loss: 0.4401 - acc: 0.8383\n",
            "Test accuracy after weight pruning of 0.25: 0.8383\n",
            "10000/10000 [==============================] - 2s 239us/sample - loss: 0.4588 - acc: 0.8324\n",
            "Test accuracy after weight pruning of 0.50: 0.8324\n",
            "10000/10000 [==============================] - 2s 244us/sample - loss: 0.4893 - acc: 0.8287\n",
            "Test accuracy after weight pruning of 0.60: 0.8287\n",
            "10000/10000 [==============================] - 2s 241us/sample - loss: 0.5842 - acc: 0.8192\n",
            "Test accuracy after weight pruning of 0.70: 0.8192\n",
            "10000/10000 [==============================] - 2s 235us/sample - loss: 0.8455 - acc: 0.7990\n",
            "Test accuracy after weight pruning of 0.80: 0.799\n",
            "10000/10000 [==============================] - 2s 249us/sample - loss: 1.5492 - acc: 0.7356\n",
            "Test accuracy after weight pruning of 0.90: 0.7356\n",
            "10000/10000 [==============================] - 2s 243us/sample - loss: 2.0700 - acc: 0.5874\n",
            "Test accuracy after weight pruning of 0.95: 0.5874\n",
            "10000/10000 [==============================] - 2s 243us/sample - loss: 2.2255 - acc: 0.4443\n",
            "Test accuracy after weight pruning of 0.97: 0.4443\n",
            "10000/10000 [==============================] - 3s 253us/sample - loss: 2.2957 - acc: 0.2351\n",
            "Test accuracy after weight pruning of 0.99: 0.2351\n"
          ],
          "name": "stdout"
        }
      ]
    },
    {
      "cell_type": "code",
      "metadata": {
        "id": "F0IsLMs1k1nj",
        "colab_type": "code",
        "outputId": "227ff659-41e4-451a-c66b-e404cb832019",
        "colab": {
          "base_uri": "https://localhost:8080/",
          "height": 300
        }
      },
      "source": [
        "weight_based_results.plot(x='k',y='Accuracy',style='x')\n"
      ],
      "execution_count": 14,
      "outputs": [
        {
          "output_type": "execute_result",
          "data": {
            "text/plain": [
              "<matplotlib.axes._subplots.AxesSubplot at 0x7ff13e6fefd0>"
            ]
          },
          "metadata": {
            "tags": []
          },
          "execution_count": 14
        },
        {
          "output_type": "display_data",
          "data": {
            "image/png": "[encoded data removed]",
            "text/plain": [
              "<Figure size 432x288 with 1 Axes>"
            ]
          },
          "metadata": {
            "tags": []
          }
        }
      ]
    },
    {
      "cell_type": "code",
      "metadata": {
        "id": "pqawm_6CGrSZ",
        "colab_type": "code",
        "colab": {
          "base_uri": "https://localhost:8080/",
          "height": 357
        },
        "outputId": "a9afb892-e463-4ffa-f415-88d6198e9b2d"
      },
      "source": [
        "####################################################################\n",
        "#defining a function for pruning\n",
        "\n",
        "\n",
        "def unit_pruning(W,k):\n",
        "  \n",
        "  # number of Weight matrices\n",
        "  W_count = np.shape(W)[0]\n",
        "\n",
        "  for layer in range(W_count-1): # (W_count-1) is used to prevent pruning of output layer\n",
        "    temp = W[layer]\n",
        "    temp_shape = temp.shape\n",
        "#     temp_flatten = temp.reshape(temp_shape[0]*temp_shape[1],)\n",
        "    temp_norm = np.linalg.norm(temp,axis=0)\n",
        "\n",
        "#     temp_abs = np.abs(temp_flatten)\n",
        "\n",
        "    ind = np.argsort(temp_norm)\n",
        "    prune_ind = ind[0:int(k*len(ind))]\n",
        "    for i in prune_ind:\n",
        "      temp[:,i] = 0\n",
        "      \n",
        "      \n",
        "    W[layer] = temp\n",
        "  return W\n",
        "####################################################################\n",
        "\n",
        "unit_based_results = pd.DataFrame()\n",
        "\n",
        "for k in [.0, .25, .50, .60, .70, .80, .90, .95, .97, .99]:\n",
        "\n",
        "  new_model = keras.models.load_model(\n",
        "      './model',\n",
        "      custom_objects=None,\n",
        "      compile=True\n",
        "  )\n",
        "  \n",
        "  # getting weights of the model\n",
        "  main_weights = new_model.get_weights()\n",
        "\n",
        "  new_weights = unit_pruning(main_weights,k)\n",
        "  new_model.set_weights(new_weights)\n",
        "\n",
        "#   new_model.fit(train_images, train_labels, epochs=3)\n",
        "  \n",
        "#   new_weights = weight_pruning(W,k)\n",
        "#   new_model.set_weights(W)\n",
        "\n",
        "\n",
        "  new_test_loss, new_test_acc = new_model.evaluate(test_images, test_labels)\n",
        "\n",
        "  print('Test accuracy after unit pruning of %.2f:'%k, new_test_acc)\n",
        "  k_step_result = pd.DataFrame({\n",
        "      'k': [k],\n",
        "      'Accuracy': [new_test_acc]\n",
        "  })\n",
        "  unit_based_results = pd.concat([unit_based_results,k_step_result],axis=0)"
      ],
      "execution_count": 15,
      "outputs": [
        {
          "output_type": "stream",
          "text": [
            "10000/10000 [==============================] - 2s 240us/sample - loss: 0.4394 - acc: 0.8393\n",
            "Test accuracy after unit pruning of 0.00: 0.8393\n",
            "10000/10000 [==============================] - 3s 281us/sample - loss: 0.4918 - acc: 0.7996\n",
            "Test accuracy after unit pruning of 0.25: 0.7996\n",
            "10000/10000 [==============================] - 3s 253us/sample - loss: 0.7275 - acc: 0.7685\n",
            "Test accuracy after unit pruning of 0.50: 0.7685\n",
            "10000/10000 [==============================] - 3s 261us/sample - loss: 1.1428 - acc: 0.6990\n",
            "Test accuracy after unit pruning of 0.60: 0.699\n",
            "10000/10000 [==============================] - 3s 260us/sample - loss: 1.6032 - acc: 0.6052\n",
            "Test accuracy after unit pruning of 0.70: 0.6052\n",
            "10000/10000 [==============================] - 3s 253us/sample - loss: 2.0768 - acc: 0.4137\n",
            "Test accuracy after unit pruning of 0.80: 0.4137\n",
            "10000/10000 [==============================] - 3s 256us/sample - loss: 2.2810 - acc: 0.2960\n",
            "Test accuracy after unit pruning of 0.90: 0.296\n",
            "10000/10000 [==============================] - 3s 260us/sample - loss: 2.3015 - acc: 0.1691\n",
            "Test accuracy after unit pruning of 0.95: 0.1691\n",
            "10000/10000 [==============================] - 3s 260us/sample - loss: 2.3023 - acc: 0.1205\n",
            "Test accuracy after unit pruning of 0.97: 0.1205\n",
            "10000/10000 [==============================] - 3s 266us/sample - loss: 2.3026 - acc: 0.0873\n",
            "Test accuracy after unit pruning of 0.99: 0.0873\n"
          ],
          "name": "stdout"
        }
      ]
    },
    {
      "cell_type": "code",
      "metadata": {
        "id": "qXHrEWMY5WMX",
        "colab_type": "code",
        "colab": {
          "base_uri": "https://localhost:8080/",
          "height": 300
        },
        "outputId": "33042706-5b7c-4efd-9c62-12cca4502c8d"
      },
      "source": [
        "unit_based_results.plot(x='k',y='Accuracy',style='o')\n"
      ],
      "execution_count": 17,
      "outputs": [
        {
          "output_type": "execute_result",
          "data": {
            "text/plain": [
              "<matplotlib.axes._subplots.AxesSubplot at 0x7ff139ec6b70>"
            ]
          },
          "metadata": {
            "tags": []
          },
          "execution_count": 17
        },
        {
          "output_type": "display_data",
          "data": {
            "image/png": "[encoded data removed]",
            "text/plain": [
              "<Figure size 432x288 with 1 Axes>"
            ]
          },
          "metadata": {
            "tags": []
          }
        }
      ]
    },
    {
      "cell_type": "code",
      "metadata": {
        "id": "78b1fBNV5z_c",
        "colab_type": "code",
        "colab": {}
      },
      "source": [
        ""
      ],
      "execution_count": 0,
      "outputs": []
    }
  ]
}
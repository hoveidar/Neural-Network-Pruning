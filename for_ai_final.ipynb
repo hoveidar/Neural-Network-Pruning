{
  "nbformat": 4,
  "nbformat_minor": 0,
  "metadata": {
    "colab": {
      "name": "for_ai_final.ipynb",
      "version": "0.3.2",
      "provenance": [],
      "collapsed_sections": [],
      "toc_visible": true,
      "include_colab_link": true
    },
    "kernelspec": {
      "name": "python3",
      "display_name": "Python 3"
    }
  },
  "cells": [
    {
      "cell_type": "markdown",
      "metadata": {
        "id": "view-in-github",
        "colab_type": "text"
      },
      "source": [
        "<a href=\"https://colab.research.google.com/github/hoveidar/Neural-Network-Pruning/blob/master/for_ai_final.ipynb\" target=\"_parent\"><img src=\"https://colab.research.google.com/assets/colab-badge.svg\" alt=\"Open In Colab\"/></a>"
      ]
    },
    {
      "cell_type": "markdown",
      "metadata": {
        "id": "KqI0I_tr1HvT",
        "colab_type": "text"
      },
      "source": [
        "# Pruning on Neural Networks\n",
        "\n"
      ]
    },
    {
      "cell_type": "markdown",
      "metadata": {
        "id": "DYK9Ij4S_ALc",
        "colab_type": "text"
      },
      "source": [
        "Note: Please save this code in your Google Drive account and run it cell by cell from the begining till the end (sequentially)."
      ]
    },
    {
      "cell_type": "markdown",
      "metadata": {
        "id": "a30YcYnO1i8e",
        "colab_type": "text"
      },
      "source": [
        "## Importing required libraries\n",
        "Let's import required libraries:"
      ]
    },
    {
      "cell_type": "code",
      "metadata": {
        "id": "cnPaSpfxmYbc",
        "colab_type": "code",
        "outputId": "f221344e-b7f8-46a5-80e5-d87658c77386",
        "colab": {
          "base_uri": "https://localhost:8080/",
          "height": 34
        }
      },
      "source": [
        "from __future__ import absolute_import, division, print_function, unicode_literals\n",
        "import random\n",
        "\n",
        "\n",
        "# TensorFlow and tf.keras\n",
        "import tensorflow as tf\n",
        "from tensorflow import keras\n",
        "\n",
        "# Helper libraries\n",
        "import numpy as np\n",
        "import matplotlib.pyplot as plt\n",
        "\n",
        "# scikit-learn and pandas for preprocessing and showing results\n",
        "from sklearn import preprocessing\n",
        "import pandas as pd\n",
        "\n",
        "\n",
        "print(tf.__version__)"
      ],
      "execution_count": 6,
      "outputs": [
        {
          "output_type": "stream",
          "text": [
            "1.14.0\n"
          ],
          "name": "stdout"
        }
      ]
    },
    {
      "cell_type": "markdown",
      "metadata": {
        "id": "gx1gbfE9138C",
        "colab_type": "text"
      },
      "source": [
        "## Dataset -> Fashion-MNIST"
      ]
    },
    {
      "cell_type": "markdown",
      "metadata": {
        "id": "EoWubNHa2JNx",
        "colab_type": "text"
      },
      "source": [
        "We are going to use Fashion-MNIST dataset in this project."
      ]
    },
    {
      "cell_type": "code",
      "metadata": {
        "id": "xaeRSZ5ZmeWj",
        "colab_type": "code",
        "colab": {
          "base_uri": "https://localhost:8080/",
          "height": 173
        },
        "outputId": "6f5d561e-99a0-472c-b995-479c94068fea"
      },
      "source": [
        "fashion_mnist = keras.datasets.fashion_mnist\n",
        "# Let's define train and test sets\n",
        "(train_images, train_labels), (test_images, test_labels) = fashion_mnist.load_data()"
      ],
      "execution_count": 4,
      "outputs": [
        {
          "output_type": "stream",
          "text": [
            "Downloading data from https://storage.googleapis.com/tensorflow/tf-keras-datasets/train-labels-idx1-ubyte.gz\n",
            "32768/29515 [=================================] - 0s 0us/step\n",
            "Downloading data from https://storage.googleapis.com/tensorflow/tf-keras-datasets/train-images-idx3-ubyte.gz\n",
            "26427392/26421880 [==============================] - 0s 0us/step\n",
            "Downloading data from https://storage.googleapis.com/tensorflow/tf-keras-datasets/t10k-labels-idx1-ubyte.gz\n",
            "8192/5148 [===============================================] - 0s 0us/step\n",
            "Downloading data from https://storage.googleapis.com/tensorflow/tf-keras-datasets/t10k-images-idx3-ubyte.gz\n",
            "4423680/4422102 [==============================] - 0s 0us/step\n"
          ],
          "name": "stdout"
        }
      ]
    },
    {
      "cell_type": "markdown",
      "metadata": {
        "id": "Q_sa63232204",
        "colab_type": "text"
      },
      "source": [
        "Below is a list of all classes avaiable in our dataset:"
      ]
    },
    {
      "cell_type": "code",
      "metadata": {
        "id": "SqFiC0ulxXka",
        "colab_type": "code",
        "colab": {}
      },
      "source": [
        "class_names = ['T-shirt/top', 'Trouser', 'Pullover', 'Dress', 'Coat',\n",
        "               'Sandal', 'Shirt', 'Sneaker', 'Bag', 'Ankle boot']"
      ],
      "execution_count": 0,
      "outputs": []
    },
    {
      "cell_type": "markdown",
      "metadata": {
        "id": "6Ce70GXA2-53",
        "colab_type": "text"
      },
      "source": [
        "Let's see how does a random instance of the train set looks like:"
      ]
    },
    {
      "cell_type": "code",
      "metadata": {
        "id": "oe77LRZCyKvH",
        "colab_type": "code",
        "outputId": "2d5e83a3-91d6-4168-f963-8621363823f8",
        "colab": {
          "base_uri": "https://localhost:8080/",
          "height": 269
        }
      },
      "source": [
        "pic_instance = random.randint(0,len(train_images))\n",
        "plt.figure()\n",
        "plt.imshow(train_images[pic_instance])\n",
        "plt.colorbar()\n",
        "plt.grid(False)\n",
        "plt.show()"
      ],
      "execution_count": 18,
      "outputs": [
        {
          "output_type": "display_data",
          "data": {
            "image/png": "[encoded data removed]",
            "text/plain": [
              "<Figure size 432x288 with 2 Axes>"
            ]
          },
          "metadata": {
            "tags": []
          }
        }
      ]
    },
    {
      "cell_type": "markdown",
      "metadata": {
        "id": "1oGqtc_H3_6W",
        "colab_type": "text"
      },
      "source": [
        "## Preprocessing (normalization)"
      ]
    },
    {
      "cell_type": "code",
      "metadata": {
        "id": "w41UqaIGQDGA",
        "colab_type": "code",
        "outputId": "057a40f0-261b-41d9-dfaf-0c451472b97c",
        "colab": {
          "base_uri": "https://localhost:8080/",
          "height": 269
        }
      },
      "source": [
        "train_images = train_images.reshape((-1,28*28))\n",
        "test_images = test_images.reshape((-1,28*28))\n",
        "# we use standard scaler method from sklearn dataset for normalization of the\n",
        "# train dataset\n",
        "scaler = preprocessing.StandardScaler().fit(train_images)\n",
        "\n",
        "\n",
        "\n",
        "train_images = scaler.transform(train_images)\n",
        "\n",
        "# we used the same transformation to scale the test set\n",
        "test_images = scaler.transform(test_images)\n",
        "\n",
        "train_images = train_images.reshape((-1,28,28))\n",
        "test_images = test_images.reshape((-1,28,28))\n",
        "\n",
        "plt.figure()\n",
        "plt.imshow(train_images[pic_instance])\n",
        "plt.colorbar()\n",
        "plt.grid(False)\n",
        "plt.show()\n"
      ],
      "execution_count": 15,
      "outputs": [
        {
          "output_type": "display_data",
          "data": {
            "image/png": "[encoded data removed]",
            "text/plain": [
              "<Figure size 432x288 with 2 Axes>"
            ]
          },
          "metadata": {
            "tags": []
          }
        }
      ]
    },
    {
      "cell_type": "markdown",
      "metadata": {
        "id": "PnUgkIx44xt_",
        "colab_type": "text"
      },
      "source": [
        "## Neural Network Model initialization"
      ]
    },
    {
      "cell_type": "code",
      "metadata": {
        "id": "QktWeVUSQSLA",
        "colab_type": "code",
        "colab": {}
      },
      "source": [
        "# We initialize a fully connected NN using the requirements of the assignment\n",
        "model = keras.Sequential([\n",
        "    keras.layers.Flatten(input_shape=(28, 28)),\n",
        "    keras.layers.Dense(1000, activation=tf.nn.relu,use_bias=False),\n",
        "    keras.layers.Dense(1000, activation=tf.nn.relu,use_bias=False),\n",
        "    keras.layers.Dense(500, activation=tf.nn.relu,use_bias=False),\n",
        "    keras.layers.Dense(200, activation=tf.nn.relu,use_bias=False),\n",
        "    keras.layers.Dense(10, activation=tf.nn.softmax,use_bias=False)\n",
        "])"
      ],
      "execution_count": 0,
      "outputs": []
    },
    {
      "cell_type": "code",
      "metadata": {
        "id": "jIfw1IT8Ro5r",
        "colab_type": "code",
        "colab": {}
      },
      "source": [
        "# Let's compile our model\n",
        "\n",
        "model.compile(optimizer='adam',\n",
        "              loss='sparse_categorical_crossentropy',\n",
        "              metrics=['accuracy'])"
      ],
      "execution_count": 0,
      "outputs": []
    },
    {
      "cell_type": "markdown",
      "metadata": {
        "id": "hpGVVFRm5oW0",
        "colab_type": "text"
      },
      "source": [
        "## Train model"
      ]
    },
    {
      "cell_type": "code",
      "metadata": {
        "id": "xjWNJCzUSUpJ",
        "colab_type": "code",
        "outputId": "f18e8161-ac13-4bf5-bcc9-f82e7ba7f9b2",
        "colab": {
          "base_uri": "https://localhost:8080/",
          "height": 272
        }
      },
      "source": [
        "# Here, we train our model on our train set\n",
        "model.fit(train_images, train_labels, epochs=7)"
      ],
      "execution_count": 32,
      "outputs": [
        {
          "output_type": "stream",
          "text": [
            "Epoch 1/7\n",
            "60000/60000 [==============================] - 60s 1ms/sample - loss: 0.4732 - acc: 0.8312\n",
            "Epoch 2/7\n",
            "60000/60000 [==============================] - 59s 988us/sample - loss: 0.3612 - acc: 0.8697\n",
            "Epoch 3/7\n",
            "60000/60000 [==============================] - 59s 989us/sample - loss: 0.3232 - acc: 0.8843\n",
            "Epoch 4/7\n",
            "60000/60000 [==============================] - 61s 1ms/sample - loss: 0.2972 - acc: 0.8920\n",
            "Epoch 5/7\n",
            "60000/60000 [==============================] - 60s 992us/sample - loss: 0.2772 - acc: 0.8986\n",
            "Epoch 6/7\n",
            "60000/60000 [==============================] - 60s 992us/sample - loss: 0.2577 - acc: 0.9049\n",
            "Epoch 7/7\n",
            "60000/60000 [==============================] - 59s 984us/sample - loss: 0.2428 - acc: 0.9107\n"
          ],
          "name": "stdout"
        },
        {
          "output_type": "execute_result",
          "data": {
            "text/plain": [
              "<tensorflow.python.keras.callbacks.History at 0x7fe1a2df9390>"
            ]
          },
          "metadata": {
            "tags": []
          },
          "execution_count": 32
        }
      ]
    },
    {
      "cell_type": "code",
      "metadata": {
        "id": "otjAPcz2umvT",
        "colab_type": "code",
        "colab": {}
      },
      "source": [
        "# Let's save our model\n",
        "keras.models.save_model(\n",
        "    model,\n",
        "    './model',\n",
        "    overwrite=True,\n",
        "    include_optimizer=True,\n",
        "    save_format=None\n",
        ")"
      ],
      "execution_count": 0,
      "outputs": []
    },
    {
      "cell_type": "markdown",
      "metadata": {
        "id": "DQ7M4_Bh5wFN",
        "colab_type": "text"
      },
      "source": [
        "## Model evaluation on the test set (Before pruning)"
      ]
    },
    {
      "cell_type": "code",
      "metadata": {
        "id": "tWXlbpwt6BCH",
        "colab_type": "code",
        "colab": {
          "base_uri": "https://localhost:8080/",
          "height": 51
        },
        "outputId": "f26a8787-ca6e-42ae-d18b-ec4ff23b198c"
      },
      "source": [
        "test_loss, test_acc = model.evaluate(test_images, test_labels)\n",
        "\n",
        "print('Test accuracy after training:', test_acc)\n",
        "\n"
      ],
      "execution_count": 35,
      "outputs": [
        {
          "output_type": "stream",
          "text": [
            "10000/10000 [==============================] - 3s 261us/sample - loss: 0.3672 - acc: 0.8751\n",
            "Test accuracy after training: 0.8751\n"
          ],
          "name": "stdout"
        }
      ]
    },
    {
      "cell_type": "markdown",
      "metadata": {
        "id": "5dfH0kuG6DpH",
        "colab_type": "text"
      },
      "source": [
        "##  Weight pruning"
      ]
    },
    {
      "cell_type": "code",
      "metadata": {
        "id": "EHfupdOfV7Gu",
        "colab_type": "code",
        "outputId": "7dbffca6-c83b-4947-862e-7c2624cad497",
        "colab": {
          "base_uri": "https://localhost:8080/",
          "height": 357
        }
      },
      "source": [
        "\n",
        "####################################################################\n",
        "#defining a function for weight pruning\n",
        "\n",
        "\n",
        "def weight_pruning(W,k):\n",
        "  \n",
        "  # number of Weight matrices\n",
        "  W_count = np.shape(W)[0]\n",
        "\n",
        "  for layer in range(W_count-1): # (W_count-1) is used to prevent pruning of output layer\n",
        "    temp = W[layer]\n",
        "    temp_shape = temp.shape\n",
        "    temp_flatten = temp.reshape(temp_shape[0]*temp_shape[1],)\n",
        "\n",
        "    temp_abs = np.abs(temp_flatten)\n",
        "\n",
        "    ind = np.argsort(temp_abs)\n",
        "    prune_ind = ind[0:int(k*len(ind))]\n",
        "    for i in prune_ind:\n",
        "      temp_flatten[i] = 0\n",
        "    W[layer] = temp_flatten.reshape(temp_shape)\n",
        "  return W\n",
        "####################################################################\n",
        "\n",
        "weight_based_results = pd.DataFrame() # dataframe to save results for different k values\n",
        "\n",
        "for k in [.0, .25, .50, .60, .70, .80, .90, .95, .97, .99]:\n",
        "  # let's load our saved model\n",
        "  new_model = keras.models.load_model(\n",
        "      './model',\n",
        "      custom_objects=None,\n",
        "      compile=True\n",
        "  )\n",
        "  \n",
        "  # getting weights of the model\n",
        "  main_weights = new_model.get_weights()\n",
        "  # setting new weights in the network\n",
        "  new_weights = weight_pruning(main_weights,k)\n",
        "  new_model.set_weights(new_weights)\n",
        "\n",
        "\n",
        "\n",
        "  # evaluating new_model performance after pruning\n",
        "  new_test_loss, new_test_acc = new_model.evaluate(test_images, test_labels)\n",
        "\n",
        "  print('Test accuracy after weight pruning of %.2f:'%k, new_test_acc)\n",
        "  k_step_result = pd.DataFrame({\n",
        "      'k': [k],\n",
        "      'Accuracy_weight_based_pruning': [new_test_acc]\n",
        "  })\n",
        "  weight_based_results = pd.concat([weight_based_results,k_step_result],axis=0)\n",
        "  \n"
      ],
      "execution_count": 36,
      "outputs": [
        {
          "output_type": "stream",
          "text": [
            "10000/10000 [==============================] - 3s 276us/sample - loss: 0.3672 - acc: 0.8751\n",
            "Test accuracy after weight pruning of 0.00: 0.8751\n",
            "10000/10000 [==============================] - 3s 267us/sample - loss: 0.3643 - acc: 0.8749\n",
            "Test accuracy after weight pruning of 0.25: 0.8749\n",
            "10000/10000 [==============================] - 3s 263us/sample - loss: 0.3594 - acc: 0.8758\n",
            "Test accuracy after weight pruning of 0.50: 0.8758\n",
            "10000/10000 [==============================] - 3s 269us/sample - loss: 0.3624 - acc: 0.8742\n",
            "Test accuracy after weight pruning of 0.60: 0.8742\n",
            "10000/10000 [==============================] - 3s 272us/sample - loss: 0.3780 - acc: 0.8720\n",
            "Test accuracy after weight pruning of 0.70: 0.872\n",
            "10000/10000 [==============================] - 3s 273us/sample - loss: 0.4575 - acc: 0.8582\n",
            "Test accuracy after weight pruning of 0.80: 0.8582\n",
            "10000/10000 [==============================] - 3s 275us/sample - loss: 0.9321 - acc: 0.7897\n",
            "Test accuracy after weight pruning of 0.90: 0.7897\n",
            "10000/10000 [==============================] - 3s 255us/sample - loss: 1.5968 - acc: 0.5837\n",
            "Test accuracy after weight pruning of 0.95: 0.5837\n",
            "10000/10000 [==============================] - 3s 279us/sample - loss: 1.9412 - acc: 0.3991\n",
            "Test accuracy after weight pruning of 0.97: 0.3991\n",
            "10000/10000 [==============================] - 3s 263us/sample - loss: 2.2951 - acc: 0.0904\n",
            "Test accuracy after weight pruning of 0.99: 0.0904\n"
          ],
          "name": "stdout"
        }
      ]
    },
    {
      "cell_type": "markdown",
      "metadata": {
        "id": "v_GbLDR77e7A",
        "colab_type": "text"
      },
      "source": [
        "### Weight pruning results"
      ]
    },
    {
      "cell_type": "code",
      "metadata": {
        "id": "F0IsLMs1k1nj",
        "colab_type": "code",
        "outputId": "5dbf9283-bfdc-4c32-cc51-d565cf70ddf0",
        "colab": {
          "base_uri": "https://localhost:8080/",
          "height": 300
        }
      },
      "source": [
        "weight_based_results.plot(x='k',y='Accuracy_weight_based_pruning',style='x')\n"
      ],
      "execution_count": 37,
      "outputs": [
        {
          "output_type": "execute_result",
          "data": {
            "text/plain": [
              "<matplotlib.axes._subplots.AxesSubplot at 0x7fe1993e79e8>"
            ]
          },
          "metadata": {
            "tags": []
          },
          "execution_count": 37
        },
        {
          "output_type": "display_data",
          "data": {
            "image/png": "[encoded data removed]",
            "text/plain": [
              "<Figure size 432x288 with 1 Axes>"
            ]
          },
          "metadata": {
            "tags": []
          }
        }
      ]
    },
    {
      "cell_type": "code",
      "metadata": {
        "id": "JdWtVHYIBCvC",
        "colab_type": "code",
        "colab": {
          "base_uri": "https://localhost:8080/",
          "height": 359
        },
        "outputId": "116cdd0b-0152-477c-dd9f-cbeb49e51857"
      },
      "source": [
        "weight_based_results"
      ],
      "execution_count": 40,
      "outputs": [
        {
          "output_type": "execute_result",
          "data": {
            "text/html": [
              "<div>\n",
              "<style scoped>\n",
              "    .dataframe tbody tr th:only-of-type {\n",
              "        vertical-align: middle;\n",
              "    }\n",
              "\n",
              "    .dataframe tbody tr th {\n",
              "        vertical-align: top;\n",
              "    }\n",
              "\n",
              "    .dataframe thead th {\n",
              "        text-align: right;\n",
              "    }\n",
              "</style>\n",
              "<table border=\"1\" class=\"dataframe\">\n",
              "  <thead>\n",
              "    <tr style=\"text-align: right;\">\n",
              "      <th></th>\n",
              "      <th>k</th>\n",
              "      <th>Accuracy_weight_based_pruning</th>\n",
              "    </tr>\n",
              "  </thead>\n",
              "  <tbody>\n",
              "    <tr>\n",
              "      <th>0</th>\n",
              "      <td>0.00</td>\n",
              "      <td>0.8751</td>\n",
              "    </tr>\n",
              "    <tr>\n",
              "      <th>0</th>\n",
              "      <td>0.25</td>\n",
              "      <td>0.8749</td>\n",
              "    </tr>\n",
              "    <tr>\n",
              "      <th>0</th>\n",
              "      <td>0.50</td>\n",
              "      <td>0.8758</td>\n",
              "    </tr>\n",
              "    <tr>\n",
              "      <th>0</th>\n",
              "      <td>0.60</td>\n",
              "      <td>0.8742</td>\n",
              "    </tr>\n",
              "    <tr>\n",
              "      <th>0</th>\n",
              "      <td>0.70</td>\n",
              "      <td>0.8720</td>\n",
              "    </tr>\n",
              "    <tr>\n",
              "      <th>0</th>\n",
              "      <td>0.80</td>\n",
              "      <td>0.8582</td>\n",
              "    </tr>\n",
              "    <tr>\n",
              "      <th>0</th>\n",
              "      <td>0.90</td>\n",
              "      <td>0.7897</td>\n",
              "    </tr>\n",
              "    <tr>\n",
              "      <th>0</th>\n",
              "      <td>0.95</td>\n",
              "      <td>0.5837</td>\n",
              "    </tr>\n",
              "    <tr>\n",
              "      <th>0</th>\n",
              "      <td>0.97</td>\n",
              "      <td>0.3991</td>\n",
              "    </tr>\n",
              "    <tr>\n",
              "      <th>0</th>\n",
              "      <td>0.99</td>\n",
              "      <td>0.0904</td>\n",
              "    </tr>\n",
              "  </tbody>\n",
              "</table>\n",
              "</div>"
            ],
            "text/plain": [
              "      k  Accuracy_weight_based_pruning\n",
              "0  0.00                         0.8751\n",
              "0  0.25                         0.8749\n",
              "0  0.50                         0.8758\n",
              "0  0.60                         0.8742\n",
              "0  0.70                         0.8720\n",
              "0  0.80                         0.8582\n",
              "0  0.90                         0.7897\n",
              "0  0.95                         0.5837\n",
              "0  0.97                         0.3991\n",
              "0  0.99                         0.0904"
            ]
          },
          "metadata": {
            "tags": []
          },
          "execution_count": 40
        }
      ]
    },
    {
      "cell_type": "markdown",
      "metadata": {
        "id": "3oEoK-RL7WFh",
        "colab_type": "text"
      },
      "source": [
        "## Unit pruning"
      ]
    },
    {
      "cell_type": "code",
      "metadata": {
        "id": "pqawm_6CGrSZ",
        "colab_type": "code",
        "outputId": "56b55c02-d6d9-402f-c253-e1eb0f52933f",
        "colab": {
          "base_uri": "https://localhost:8080/",
          "height": 357
        }
      },
      "source": [
        "####################################################################\n",
        "#defining a function for unit pruning\n",
        "\n",
        "\n",
        "def unit_pruning(W,k):\n",
        "  \n",
        "  # number of Weight matrices\n",
        "  W_count = np.shape(W)[0]\n",
        "\n",
        "  for layer in range(W_count-1): # (W_count-1) is used to prevent pruning of output layer\n",
        "    temp = W[layer]\n",
        "    temp_shape = temp.shape\n",
        "#     temp_flatten = temp.reshape(temp_shape[0]*temp_shape[1],)\n",
        "    temp_norm = np.linalg.norm(temp,axis=0)\n",
        "\n",
        "#     temp_abs = np.abs(temp_flatten)\n",
        "\n",
        "    ind = np.argsort(temp_norm)\n",
        "    prune_ind = ind[0:int(k*len(ind))]\n",
        "    for i in prune_ind:\n",
        "      temp[:,i] = 0\n",
        "      \n",
        "      \n",
        "    W[layer] = temp\n",
        "  return W\n",
        "####################################################################\n",
        "\n",
        "unit_based_results = pd.DataFrame() # dataframe to save results for different k values\n",
        "\n",
        "for k in [.0, .25, .50, .60, .70, .80, .90, .95, .97, .99]:\n",
        "  # let's load our saved model\n",
        "  new_model = keras.models.load_model(\n",
        "      './model',\n",
        "      custom_objects=None,\n",
        "      compile=True\n",
        "  )\n",
        "  \n",
        "  # getting weights of the model\n",
        "  main_weights = new_model.get_weights()\n",
        "  # setting new weights in the network\n",
        "  new_weights = unit_pruning(main_weights,k)\n",
        "  new_model.set_weights(new_weights)\n",
        "\n",
        "  # evaluating new_model performance after pruning\n",
        "  new_test_loss, new_test_acc = new_model.evaluate(test_images, test_labels)\n",
        "\n",
        "  print('Test accuracy after unit pruning of %.2f:'%k, new_test_acc)\n",
        "  k_step_result = pd.DataFrame({\n",
        "      'k': [k],\n",
        "      'Accuracy_unit_based_pruning': [new_test_acc]\n",
        "  })\n",
        "  unit_based_results = pd.concat([unit_based_results,k_step_result],axis=0)"
      ],
      "execution_count": 38,
      "outputs": [
        {
          "output_type": "stream",
          "text": [
            "10000/10000 [==============================] - 3s 272us/sample - loss: 0.3672 - acc: 0.8751\n",
            "Test accuracy after unit pruning of 0.00: 0.8751\n",
            "10000/10000 [==============================] - 3s 267us/sample - loss: 0.3617 - acc: 0.8754\n",
            "Test accuracy after unit pruning of 0.25: 0.8754\n",
            "10000/10000 [==============================] - 3s 276us/sample - loss: 0.3673 - acc: 0.8692\n",
            "Test accuracy after unit pruning of 0.50: 0.8692\n",
            "10000/10000 [==============================] - 3s 271us/sample - loss: 0.3786 - acc: 0.8648\n",
            "Test accuracy after unit pruning of 0.60: 0.8648\n",
            "10000/10000 [==============================] - 3s 256us/sample - loss: 0.5203 - acc: 0.7822\n",
            "Test accuracy after unit pruning of 0.70: 0.7822\n",
            "10000/10000 [==============================] - 3s 283us/sample - loss: 1.0684 - acc: 0.7038\n",
            "Test accuracy after unit pruning of 0.80: 0.7038\n",
            "10000/10000 [==============================] - 3s 270us/sample - loss: 2.1690 - acc: 0.2266\n",
            "Test accuracy after unit pruning of 0.90: 0.2266\n",
            "10000/10000 [==============================] - 3s 275us/sample - loss: 2.2991 - acc: 0.2106\n",
            "Test accuracy after unit pruning of 0.95: 0.2106\n",
            "10000/10000 [==============================] - 3s 275us/sample - loss: 2.3015 - acc: 0.0716\n",
            "Test accuracy after unit pruning of 0.97: 0.0716\n",
            "10000/10000 [==============================] - 3s 272us/sample - loss: 2.3017 - acc: 0.0533\n",
            "Test accuracy after unit pruning of 0.99: 0.0533\n"
          ],
          "name": "stdout"
        }
      ]
    },
    {
      "cell_type": "markdown",
      "metadata": {
        "id": "785UHR8l7koV",
        "colab_type": "text"
      },
      "source": [
        "### Unit pruning results"
      ]
    },
    {
      "cell_type": "code",
      "metadata": {
        "id": "qXHrEWMY5WMX",
        "colab_type": "code",
        "outputId": "0f468f6f-6f32-49ba-bc57-336ed6536c6a",
        "colab": {
          "base_uri": "https://localhost:8080/",
          "height": 300
        }
      },
      "source": [
        "unit_based_results.plot(x='k',y='Accuracy_unit_based_pruning',style='o')\n"
      ],
      "execution_count": 39,
      "outputs": [
        {
          "output_type": "execute_result",
          "data": {
            "text/plain": [
              "<matplotlib.axes._subplots.AxesSubplot at 0x7fe197e06e80>"
            ]
          },
          "metadata": {
            "tags": []
          },
          "execution_count": 39
        },
        {
          "output_type": "display_data",
          "data": {
            "image/png": "[encoded data removed]",
            "text/plain": [
              "<Figure size 432x288 with 1 Axes>"
            ]
          },
          "metadata": {
            "tags": []
          }
        }
      ]
    },
    {
      "cell_type": "code",
      "metadata": {
        "id": "X_giCOKYBG54",
        "colab_type": "code",
        "colab": {
          "base_uri": "https://localhost:8080/",
          "height": 359
        },
        "outputId": "acfca6d2-29ad-4992-c88d-4c5a39d8f43f"
      },
      "source": [
        "unit_based_results"
      ],
      "execution_count": 41,
      "outputs": [
        {
          "output_type": "execute_result",
          "data": {
            "text/html": [
              "<div>\n",
              "<style scoped>\n",
              "    .dataframe tbody tr th:only-of-type {\n",
              "        vertical-align: middle;\n",
              "    }\n",
              "\n",
              "    .dataframe tbody tr th {\n",
              "        vertical-align: top;\n",
              "    }\n",
              "\n",
              "    .dataframe thead th {\n",
              "        text-align: right;\n",
              "    }\n",
              "</style>\n",
              "<table border=\"1\" class=\"dataframe\">\n",
              "  <thead>\n",
              "    <tr style=\"text-align: right;\">\n",
              "      <th></th>\n",
              "      <th>k</th>\n",
              "      <th>Accuracy_unit_based_pruning</th>\n",
              "    </tr>\n",
              "  </thead>\n",
              "  <tbody>\n",
              "    <tr>\n",
              "      <th>0</th>\n",
              "      <td>0.00</td>\n",
              "      <td>0.8751</td>\n",
              "    </tr>\n",
              "    <tr>\n",
              "      <th>0</th>\n",
              "      <td>0.25</td>\n",
              "      <td>0.8754</td>\n",
              "    </tr>\n",
              "    <tr>\n",
              "      <th>0</th>\n",
              "      <td>0.50</td>\n",
              "      <td>0.8692</td>\n",
              "    </tr>\n",
              "    <tr>\n",
              "      <th>0</th>\n",
              "      <td>0.60</td>\n",
              "      <td>0.8648</td>\n",
              "    </tr>\n",
              "    <tr>\n",
              "      <th>0</th>\n",
              "      <td>0.70</td>\n",
              "      <td>0.7822</td>\n",
              "    </tr>\n",
              "    <tr>\n",
              "      <th>0</th>\n",
              "      <td>0.80</td>\n",
              "      <td>0.7038</td>\n",
              "    </tr>\n",
              "    <tr>\n",
              "      <th>0</th>\n",
              "      <td>0.90</td>\n",
              "      <td>0.2266</td>\n",
              "    </tr>\n",
              "    <tr>\n",
              "      <th>0</th>\n",
              "      <td>0.95</td>\n",
              "      <td>0.2106</td>\n",
              "    </tr>\n",
              "    <tr>\n",
              "      <th>0</th>\n",
              "      <td>0.97</td>\n",
              "      <td>0.0716</td>\n",
              "    </tr>\n",
              "    <tr>\n",
              "      <th>0</th>\n",
              "      <td>0.99</td>\n",
              "      <td>0.0533</td>\n",
              "    </tr>\n",
              "  </tbody>\n",
              "</table>\n",
              "</div>"
            ],
            "text/plain": [
              "      k  Accuracy_unit_based_pruning\n",
              "0  0.00                       0.8751\n",
              "0  0.25                       0.8754\n",
              "0  0.50                       0.8692\n",
              "0  0.60                       0.8648\n",
              "0  0.70                       0.7822\n",
              "0  0.80                       0.7038\n",
              "0  0.90                       0.2266\n",
              "0  0.95                       0.2106\n",
              "0  0.97                       0.0716\n",
              "0  0.99                       0.0533"
            ]
          },
          "metadata": {
            "tags": []
          },
          "execution_count": 41
        }
      ]
    },
    {
      "cell_type": "markdown",
      "metadata": {
        "id": "sNEnkVpN9xrt",
        "colab_type": "text"
      },
      "source": [
        "## Conclusion"
      ]
    },
    {
      "cell_type": "markdown",
      "metadata": {
        "id": "tlXAJeuP91x9",
        "colab_type": "text"
      },
      "source": [
        "Based on the resluts of this experiment, we can observe that the accuracy with Weight pruning drops with much higher k values in comparison with Unit pruning technique. This suggests that the network performance is more stable using Weight pruning than Unit pruning. This might be due to the fact that Unit pruning is a very aggressive procedure in comparison with the other approach. In other words, when we try to delete (prune) a unit altogether, we might lose all the good connections it has, while when we are pruning based only on weights, we are only getting rid of the weights which are not contributing that much to our network (due to their small absolute value). So, in conclusion our neural network would suffer more (accuracy wise) with Unit pruning method and Weight pruning method seems to be a better alternative. The other important aspect of this experiment is that even with 80% of weights being pruned, still we can have good performance in comparison with having all the weights of the network (i.e., k=0.0%). This can be due to the fact that our network has way more parameters (weights) than needed for the afformentioned task (Fashion-MNIST dataset classification task). Therefore, by pruning even a large percentage of the weights we can still get a comparable result to the highest accuracy of the network with all of it's weights.\n",
        "\n"
      ]
    },
    {
      "cell_type": "code",
      "metadata": {
        "id": "0z_YhnWS902K",
        "colab_type": "code",
        "colab": {}
      },
      "source": [
        ""
      ],
      "execution_count": 0,
      "outputs": []
    }
  ]
}